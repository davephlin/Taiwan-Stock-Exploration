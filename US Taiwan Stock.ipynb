{
 "cells": [
  {
   "cell_type": "markdown",
   "metadata": {},
   "source": [
    "# Relationship of US and Taiwan Stock Indices &\n",
    "# Potential Systematic Strtegies"
   ]
  },
  {
   "cell_type": "markdown",
   "metadata": {},
   "source": [
    "```\n",
    "TW stock trading hours: 9:00 AM to 1:30 PM Taiwan time\n",
    "US stock trading hours: 9:30 AM to 4:00 PM EDT/EST\n",
    "                        9:30 PM to 4:00 AM (+1 day) Taiwan time (EDT)\n",
    "                        8:30 PM to 3:00 AM (+1 day) Taiwan time  (EST)\n",
    "                        \n",
    "TWII = TSEC weighted index\n",
    "GSPC = S&P 500\n",
    "SOX = PHLX Semiconductor\n",
    "EWT = iShares MSCI Taiwan Capped ETF\n",
    "                        \n",
    "```"
   ]
  },
  {
   "cell_type": "code",
   "execution_count": 95,
   "metadata": {},
   "outputs": [],
   "source": [
    "import numpy as np\n",
    "import pandas as pd\n",
    "import matplotlib.pyplot as plt\n",
    "import statsmodels.api as sm\n",
    "from sklearn.linear_model import LinearRegression"
   ]
  },
  {
   "cell_type": "markdown",
   "metadata": {},
   "source": [
    "## Data Processing"
   ]
  },
  {
   "cell_type": "code",
   "execution_count": 73,
   "metadata": {},
   "outputs": [],
   "source": [
    "TWII = pd.read_csv('^TWII.csv')\n",
    "GSPC = pd.read_csv('^GSPC.csv')\n",
    "SOX = pd.read_csv('^SOX.csv')\n",
    "EWT = pd.read_csv('EWT.csv')"
   ]
  },
  {
   "cell_type": "code",
   "execution_count": 74,
   "metadata": {},
   "outputs": [],
   "source": [
    "TWII['TWII Return'] = TWII['Adj Close'].diff()\n",
    "GSPC['GSPC Return'] = GSPC['Adj Close'].diff()\n",
    "SOX['SOX Return'] = SOX['Adj Close'].diff()\n",
    "EWT['EWT Return'] = EWT['Adj Close'].diff()"
   ]
  },
  {
   "cell_type": "code",
   "execution_count": 75,
   "metadata": {},
   "outputs": [],
   "source": [
    "data = pd.merge(TWII[['Date','TWII Return']],GSPC[['Date','GSPC Return']],on='Date')\n",
    "data = pd.merge(data,SOX[['Date','SOX Return']],on='Date')\n",
    "data = pd.merge(data,EWT[['Date','EWT Return']],on='Date')"
   ]
  },
  {
   "cell_type": "code",
   "execution_count": 76,
   "metadata": {},
   "outputs": [],
   "source": [
    "data['TWII Return prev'] = [None] + list(data['TWII Return'])[:-1]\n",
    "data['GSPC Return prev'] = [None] + list(data['GSPC Return'])[:-1]\n",
    "data['SOX Return prev'] = [None] + list(data['SOX Return'])[:-1]\n",
    "data['EWT Return prev'] = [None] + list(data['EWT Return'])[:-1]"
   ]
  },
  {
   "cell_type": "code",
   "execution_count": 77,
   "metadata": {},
   "outputs": [],
   "source": [
    "data['TWII Return day'] = TWII['Adj Close'] - TWII['Open']"
   ]
  },
  {
   "cell_type": "code",
   "execution_count": 78,
   "metadata": {},
   "outputs": [
    {
     "data": {
      "text/html": [
       "<div>\n",
       "<style scoped>\n",
       "    .dataframe tbody tr th:only-of-type {\n",
       "        vertical-align: middle;\n",
       "    }\n",
       "\n",
       "    .dataframe tbody tr th {\n",
       "        vertical-align: top;\n",
       "    }\n",
       "\n",
       "    .dataframe thead th {\n",
       "        text-align: right;\n",
       "    }\n",
       "</style>\n",
       "<table border=\"1\" class=\"dataframe\">\n",
       "  <thead>\n",
       "    <tr style=\"text-align: right;\">\n",
       "      <th></th>\n",
       "      <th>Date</th>\n",
       "      <th>TWII Return</th>\n",
       "      <th>GSPC Return</th>\n",
       "      <th>SOX Return</th>\n",
       "      <th>EWT Return</th>\n",
       "      <th>TWII Return prev</th>\n",
       "      <th>GSPC Return prev</th>\n",
       "      <th>SOX Return prev</th>\n",
       "      <th>EWT Return prev</th>\n",
       "      <th>TWII Return day</th>\n",
       "    </tr>\n",
       "  </thead>\n",
       "  <tbody>\n",
       "    <tr>\n",
       "      <th>2</th>\n",
       "      <td>2010-05-19</td>\n",
       "      <td>-26.139648</td>\n",
       "      <td>-5.750000</td>\n",
       "      <td>1.989014</td>\n",
       "      <td>-0.216211</td>\n",
       "      <td>-13.420410</td>\n",
       "      <td>-16.139892</td>\n",
       "      <td>-10.534912</td>\n",
       "      <td>-0.355206</td>\n",
       "      <td>31.511231</td>\n",
       "    </tr>\n",
       "    <tr>\n",
       "      <th>3</th>\n",
       "      <td>2010-05-20</td>\n",
       "      <td>-134.729004</td>\n",
       "      <td>-43.460083</td>\n",
       "      <td>-10.235047</td>\n",
       "      <td>-0.679530</td>\n",
       "      <td>-26.139648</td>\n",
       "      <td>-5.750000</td>\n",
       "      <td>1.989014</td>\n",
       "      <td>-0.216211</td>\n",
       "      <td>-132.767578</td>\n",
       "    </tr>\n",
       "    <tr>\n",
       "      <th>4</th>\n",
       "      <td>2010-05-21</td>\n",
       "      <td>-186.719727</td>\n",
       "      <td>16.099975</td>\n",
       "      <td>8.505860</td>\n",
       "      <td>0.216214</td>\n",
       "      <td>-134.729004</td>\n",
       "      <td>-43.460083</td>\n",
       "      <td>-10.235047</td>\n",
       "      <td>-0.679530</td>\n",
       "      <td>8.512695</td>\n",
       "    </tr>\n",
       "    <tr>\n",
       "      <th>5</th>\n",
       "      <td>2010-05-24</td>\n",
       "      <td>85.019531</td>\n",
       "      <td>-14.039917</td>\n",
       "      <td>-6.566773</td>\n",
       "      <td>-0.030884</td>\n",
       "      <td>-186.719727</td>\n",
       "      <td>16.099975</td>\n",
       "      <td>8.505860</td>\n",
       "      <td>0.216214</td>\n",
       "      <td>26.552246</td>\n",
       "    </tr>\n",
       "    <tr>\n",
       "      <th>6</th>\n",
       "      <td>2010-05-25</td>\n",
       "      <td>-236.358398</td>\n",
       "      <td>0.380005</td>\n",
       "      <td>1.969025</td>\n",
       "      <td>-0.293432</td>\n",
       "      <td>85.019531</td>\n",
       "      <td>-14.039917</td>\n",
       "      <td>-6.566773</td>\n",
       "      <td>-0.030884</td>\n",
       "      <td>-151.816406</td>\n",
       "    </tr>\n",
       "  </tbody>\n",
       "</table>\n",
       "</div>"
      ],
      "text/plain": [
       "         Date  TWII Return  GSPC Return  SOX Return  EWT Return  \\\n",
       "2  2010-05-19   -26.139648    -5.750000    1.989014   -0.216211   \n",
       "3  2010-05-20  -134.729004   -43.460083  -10.235047   -0.679530   \n",
       "4  2010-05-21  -186.719727    16.099975    8.505860    0.216214   \n",
       "5  2010-05-24    85.019531   -14.039917   -6.566773   -0.030884   \n",
       "6  2010-05-25  -236.358398     0.380005    1.969025   -0.293432   \n",
       "\n",
       "   TWII Return prev  GSPC Return prev  SOX Return prev  EWT Return prev  \\\n",
       "2        -13.420410        -16.139892       -10.534912        -0.355206   \n",
       "3        -26.139648         -5.750000         1.989014        -0.216211   \n",
       "4       -134.729004        -43.460083       -10.235047        -0.679530   \n",
       "5       -186.719727         16.099975         8.505860         0.216214   \n",
       "6         85.019531        -14.039917        -6.566773        -0.030884   \n",
       "\n",
       "   TWII Return day  \n",
       "2        31.511231  \n",
       "3      -132.767578  \n",
       "4         8.512695  \n",
       "5        26.552246  \n",
       "6      -151.816406  "
      ]
     },
     "execution_count": 78,
     "metadata": {},
     "output_type": "execute_result"
    }
   ],
   "source": [
    "data = data.dropna()\n",
    "data.head()"
   ]
  },
  {
   "cell_type": "code",
   "execution_count": 79,
   "metadata": {},
   "outputs": [
    {
     "data": {
      "text/plain": [
       "(2341, 10)"
      ]
     },
     "execution_count": 79,
     "metadata": {},
     "output_type": "execute_result"
    }
   ],
   "source": [
    "data.shape"
   ]
  },
  {
   "cell_type": "markdown",
   "metadata": {},
   "source": [
    "## Historical Trend"
   ]
  },
  {
   "cell_type": "code",
   "execution_count": 71,
   "metadata": {},
   "outputs": [
    {
     "data": {
      "text/plain": [
       "<matplotlib.legend.Legend at 0x11bdb5358>"
      ]
     },
     "execution_count": 71,
     "metadata": {},
     "output_type": "execute_result"
    },
    {
     "data": {
      "image/png": "[encoded data removed]",
      "text/plain": [
       "<Figure size 432x288 with 1 Axes>"
      ]
     },
     "metadata": {
      "needs_background": "light"
     },
     "output_type": "display_data"
    }
   ],
   "source": [
    "plt.plot(TWII['Adj Close']/TWII['Adj Close'][0], label='TWII')\n",
    "plt.plot(GSPC['Adj Close']/GSPC['Adj Close'][0], label='GSPC')\n",
    "plt.plot(SOX['Adj Close']/SOX['Adj Close'][0], label='SOX')\n",
    "plt.legend()"
   ]
  },
  {
   "cell_type": "markdown",
   "metadata": {},
   "source": [
    "## Relationship of US stock indices & TWII daily return"
   ]
  },
  {
   "cell_type": "code",
   "execution_count": 65,
   "metadata": {},
   "outputs": [],
   "source": [
    "model = sm.OLS(data['TWII Return'],data[['SOX Return prev','GSPC Return prev']],missing='drop').fit()"
   ]
  },
  {
   "cell_type": "code",
   "execution_count": 66,
   "metadata": {},
   "outputs": [
    {
     "data": {
      "text/html": [
       "<table class=\"simpletable\">\n",
       "<caption>OLS Regression Results</caption>\n",
       "<tr>\n",
       "  <th>Dep. Variable:</th>       <td>TWII Return</td>   <th>  R-squared (uncentered):</th>      <td>   0.139</td> \n",
       "</tr>\n",
       "<tr>\n",
       "  <th>Model:</th>                   <td>OLS</td>       <th>  Adj. R-squared (uncentered):</th> <td>   0.139</td> \n",
       "</tr>\n",
       "<tr>\n",
       "  <th>Method:</th>             <td>Least Squares</td>  <th>  F-statistic:       </th>          <td>   190.1</td> \n",
       "</tr>\n",
       "<tr>\n",
       "  <th>Date:</th>             <td>Fri, 15 May 2020</td> <th>  Prob (F-statistic):</th>          <td>3.01e-77</td> \n",
       "</tr>\n",
       "<tr>\n",
       "  <th>Time:</th>                 <td>16:22:28</td>     <th>  Log-Likelihood:    </th>          <td> -13614.</td> \n",
       "</tr>\n",
       "<tr>\n",
       "  <th>No. Observations:</th>      <td>  2349</td>      <th>  AIC:               </th>          <td>2.723e+04</td>\n",
       "</tr>\n",
       "<tr>\n",
       "  <th>Df Residuals:</th>          <td>  2347</td>      <th>  BIC:               </th>          <td>2.724e+04</td>\n",
       "</tr>\n",
       "<tr>\n",
       "  <th>Df Model:</th>              <td>     2</td>      <th>                     </th>              <td> </td>    \n",
       "</tr>\n",
       "<tr>\n",
       "  <th>Covariance Type:</th>      <td>nonrobust</td>    <th>                     </th>              <td> </td>    \n",
       "</tr>\n",
       "</table>\n",
       "<table class=\"simpletable\">\n",
       "<tr>\n",
       "          <td></td>            <th>coef</th>     <th>std err</th>      <th>t</th>      <th>P>|t|</th>  <th>[0.025</th>    <th>0.975]</th>  \n",
       "</tr>\n",
       "<tr>\n",
       "  <th>SOX Return prev</th>  <td>    0.8756</td> <td>    0.168</td> <td>    5.205</td> <td> 0.000</td> <td>    0.546</td> <td>    1.205</td>\n",
       "</tr>\n",
       "<tr>\n",
       "  <th>GSPC Return prev</th> <td>    0.7271</td> <td>    0.126</td> <td>    5.762</td> <td> 0.000</td> <td>    0.480</td> <td>    0.975</td>\n",
       "</tr>\n",
       "</table>\n",
       "<table class=\"simpletable\">\n",
       "<tr>\n",
       "  <th>Omnibus:</th>       <td>702.430</td> <th>  Durbin-Watson:     </th> <td>   2.186</td>\n",
       "</tr>\n",
       "<tr>\n",
       "  <th>Prob(Omnibus):</th> <td> 0.000</td>  <th>  Jarque-Bera (JB):  </th> <td>9816.249</td>\n",
       "</tr>\n",
       "<tr>\n",
       "  <th>Skew:</th>          <td>-1.016</td>  <th>  Prob(JB):          </th> <td>    0.00</td>\n",
       "</tr>\n",
       "<tr>\n",
       "  <th>Kurtosis:</th>      <td>12.807</td>  <th>  Cond. No.          </th> <td>    3.58</td>\n",
       "</tr>\n",
       "</table><br/><br/>Warnings:<br/>[1] Standard Errors assume that the covariance matrix of the errors is correctly specified."
      ],
      "text/plain": [
       "<class 'statsmodels.iolib.summary.Summary'>\n",
       "\"\"\"\n",
       "                                 OLS Regression Results                                \n",
       "=======================================================================================\n",
       "Dep. Variable:            TWII Return   R-squared (uncentered):                   0.139\n",
       "Model:                            OLS   Adj. R-squared (uncentered):              0.139\n",
       "Method:                 Least Squares   F-statistic:                              190.1\n",
       "Date:                Fri, 15 May 2020   Prob (F-statistic):                    3.01e-77\n",
       "Time:                        16:22:28   Log-Likelihood:                         -13614.\n",
       "No. Observations:                2349   AIC:                                  2.723e+04\n",
       "Df Residuals:                    2347   BIC:                                  2.724e+04\n",
       "Df Model:                           2                                                  \n",
       "Covariance Type:            nonrobust                                                  \n",
       "====================================================================================\n",
       "                       coef    std err          t      P>|t|      [0.025      0.975]\n",
       "------------------------------------------------------------------------------------\n",
       "SOX Return prev      0.8756      0.168      5.205      0.000       0.546       1.205\n",
       "GSPC Return prev     0.7271      0.126      5.762      0.000       0.480       0.975\n",
       "==============================================================================\n",
       "Omnibus:                      702.430   Durbin-Watson:                   2.186\n",
       "Prob(Omnibus):                  0.000   Jarque-Bera (JB):             9816.249\n",
       "Skew:                          -1.016   Prob(JB):                         0.00\n",
       "Kurtosis:                      12.807   Cond. No.                         3.58\n",
       "==============================================================================\n",
       "\n",
       "Warnings:\n",
       "[1] Standard Errors assume that the covariance matrix of the errors is correctly specified.\n",
       "\"\"\""
      ]
     },
     "execution_count": 66,
     "metadata": {},
     "output_type": "execute_result"
    }
   ],
   "source": [
    "model.summary()"
   ]
  },
  {
   "cell_type": "code",
   "execution_count": 67,
   "metadata": {},
   "outputs": [
    {
     "data": {
      "text/plain": [
       "<matplotlib.collections.PathCollection at 0x125faa978>"
      ]
     },
     "execution_count": 67,
     "metadata": {},
     "output_type": "execute_result"
    },
    {
     "data": {
      "image/png": "[encoded data removed]",
      "text/plain": [
       "<Figure size 432x288 with 1 Axes>"
      ]
     },
     "metadata": {
      "needs_background": "light"
     },
     "output_type": "display_data"
    }
   ],
   "source": [
    "plt.scatter(data['GSPC Return prev'], data['TWII Return'])\n",
    "plt.scatter(data['SOX Return prev'], data['TWII Return'])"
   ]
  },
  {
   "cell_type": "code",
   "execution_count": 96,
   "metadata": {},
   "outputs": [
    {
     "data": {
      "text/plain": [
       "array([[1.        , 0.35876463],\n",
       "       [0.35876463, 1.        ]])"
      ]
     },
     "execution_count": 96,
     "metadata": {},
     "output_type": "execute_result"
    }
   ],
   "source": [
    "np.corrcoef(data['GSPC Return prev'], data['TWII Return'])"
   ]
  },
  {
   "cell_type": "code",
   "execution_count": 94,
   "metadata": {},
   "outputs": [
    {
     "data": {
      "text/plain": [
       "<matplotlib.collections.PathCollection at 0x1141672e8>"
      ]
     },
     "execution_count": 94,
     "metadata": {},
     "output_type": "execute_result"
    },
    {
     "data": {
      "image/png": "[encoded data removed]",
      "text/plain": [
       "<Figure size 432x288 with 1 Axes>"
      ]
     },
     "metadata": {
      "needs_background": "light"
     },
     "output_type": "display_data"
    }
   ],
   "source": [
    "plt.scatter(data['TWII Return'], data['GSPC Return'])\n",
    "plt.scatter(data['TWII Return'], data['SOX Return'])"
   ]
  },
  {
   "cell_type": "code",
   "execution_count": 97,
   "metadata": {},
   "outputs": [
    {
     "data": {
      "text/plain": [
       "array([[1.       , 0.2215863],\n",
       "       [0.2215863, 1.       ]])"
      ]
     },
     "execution_count": 97,
     "metadata": {},
     "output_type": "execute_result"
    }
   ],
   "source": [
    "np.corrcoef(data['GSPC Return'], data['TWII Return'])"
   ]
  },
  {
   "cell_type": "markdown",
   "metadata": {},
   "source": [
    "```\n",
    "TWII daily return and GSPC/SOX daily return are well correlated\n",
    "```"
   ]
  },
  {
   "cell_type": "markdown",
   "metadata": {},
   "source": [
    "## Using US stock indices to predict TWII intraday return"
   ]
  },
  {
   "cell_type": "code",
   "execution_count": 53,
   "metadata": {},
   "outputs": [],
   "source": [
    "model = sm.OLS(data['TWII Return day'],data[['SOX Return prev','GSPC Return prev']],missing='drop').fit()"
   ]
  },
  {
   "cell_type": "code",
   "execution_count": 54,
   "metadata": {},
   "outputs": [
    {
     "data": {
      "text/html": [
       "<table class=\"simpletable\">\n",
       "<caption>OLS Regression Results</caption>\n",
       "<tr>\n",
       "  <th>Dep. Variable:</th>     <td>TWII Return day</td> <th>  R-squared (uncentered):</th>      <td>   0.001</td> \n",
       "</tr>\n",
       "<tr>\n",
       "  <th>Model:</th>                   <td>OLS</td>       <th>  Adj. R-squared (uncentered):</th> <td>  -0.000</td> \n",
       "</tr>\n",
       "<tr>\n",
       "  <th>Method:</th>             <td>Least Squares</td>  <th>  F-statistic:       </th>          <td>  0.6163</td> \n",
       "</tr>\n",
       "<tr>\n",
       "  <th>Date:</th>             <td>Fri, 15 May 2020</td> <th>  Prob (F-statistic):</th>           <td> 0.540</td>  \n",
       "</tr>\n",
       "<tr>\n",
       "  <th>Time:</th>                 <td>16:09:13</td>     <th>  Log-Likelihood:    </th>          <td> -13032.</td> \n",
       "</tr>\n",
       "<tr>\n",
       "  <th>No. Observations:</th>      <td>  2362</td>      <th>  AIC:               </th>          <td>2.607e+04</td>\n",
       "</tr>\n",
       "<tr>\n",
       "  <th>Df Residuals:</th>          <td>  2360</td>      <th>  BIC:               </th>          <td>2.608e+04</td>\n",
       "</tr>\n",
       "<tr>\n",
       "  <th>Df Model:</th>              <td>     2</td>      <th>                     </th>              <td> </td>    \n",
       "</tr>\n",
       "<tr>\n",
       "  <th>Covariance Type:</th>      <td>nonrobust</td>    <th>                     </th>              <td> </td>    \n",
       "</tr>\n",
       "</table>\n",
       "<table class=\"simpletable\">\n",
       "<tr>\n",
       "          <td></td>            <th>coef</th>     <th>std err</th>      <th>t</th>      <th>P>|t|</th>  <th>[0.025</th>    <th>0.975]</th>  \n",
       "</tr>\n",
       "<tr>\n",
       "  <th>SOX Return prev</th>  <td>    0.1409</td> <td>    0.127</td> <td>    1.108</td> <td> 0.268</td> <td>   -0.109</td> <td>    0.390</td>\n",
       "</tr>\n",
       "<tr>\n",
       "  <th>GSPC Return prev</th> <td>   -0.0850</td> <td>    0.095</td> <td>   -0.891</td> <td> 0.373</td> <td>   -0.272</td> <td>    0.102</td>\n",
       "</tr>\n",
       "</table>\n",
       "<table class=\"simpletable\">\n",
       "<tr>\n",
       "  <th>Omnibus:</th>       <td>290.448</td> <th>  Durbin-Watson:     </th> <td>   2.050</td> \n",
       "</tr>\n",
       "<tr>\n",
       "  <th>Prob(Omnibus):</th> <td> 0.000</td>  <th>  Jarque-Bera (JB):  </th> <td>1193.448</td> \n",
       "</tr>\n",
       "<tr>\n",
       "  <th>Skew:</th>          <td>-0.542</td>  <th>  Prob(JB):          </th> <td>7.02e-260</td>\n",
       "</tr>\n",
       "<tr>\n",
       "  <th>Kurtosis:</th>      <td> 6.310</td>  <th>  Cond. No.          </th> <td>    3.58</td> \n",
       "</tr>\n",
       "</table><br/><br/>Warnings:<br/>[1] Standard Errors assume that the covariance matrix of the errors is correctly specified."
      ],
      "text/plain": [
       "<class 'statsmodels.iolib.summary.Summary'>\n",
       "\"\"\"\n",
       "                                 OLS Regression Results                                \n",
       "=======================================================================================\n",
       "Dep. Variable:        TWII Return day   R-squared (uncentered):                   0.001\n",
       "Model:                            OLS   Adj. R-squared (uncentered):             -0.000\n",
       "Method:                 Least Squares   F-statistic:                             0.6163\n",
       "Date:                Fri, 15 May 2020   Prob (F-statistic):                       0.540\n",
       "Time:                        16:09:13   Log-Likelihood:                         -13032.\n",
       "No. Observations:                2362   AIC:                                  2.607e+04\n",
       "Df Residuals:                    2360   BIC:                                  2.608e+04\n",
       "Df Model:                           2                                                  \n",
       "Covariance Type:            nonrobust                                                  \n",
       "====================================================================================\n",
       "                       coef    std err          t      P>|t|      [0.025      0.975]\n",
       "------------------------------------------------------------------------------------\n",
       "SOX Return prev      0.1409      0.127      1.108      0.268      -0.109       0.390\n",
       "GSPC Return prev    -0.0850      0.095     -0.891      0.373      -0.272       0.102\n",
       "==============================================================================\n",
       "Omnibus:                      290.448   Durbin-Watson:                   2.050\n",
       "Prob(Omnibus):                  0.000   Jarque-Bera (JB):             1193.448\n",
       "Skew:                          -0.542   Prob(JB):                    7.02e-260\n",
       "Kurtosis:                       6.310   Cond. No.                         3.58\n",
       "==============================================================================\n",
       "\n",
       "Warnings:\n",
       "[1] Standard Errors assume that the covariance matrix of the errors is correctly specified.\n",
       "\"\"\""
      ]
     },
     "execution_count": 54,
     "metadata": {},
     "output_type": "execute_result"
    }
   ],
   "source": [
    "model.summary()"
   ]
  },
  {
   "cell_type": "code",
   "execution_count": 55,
   "metadata": {},
   "outputs": [
    {
     "data": {
      "text/plain": [
       "<matplotlib.collections.PathCollection at 0x12610f748>"
      ]
     },
     "execution_count": 55,
     "metadata": {},
     "output_type": "execute_result"
    },
    {
     "data": {
      "image/png": "[encoded data removed]",
      "text/plain": [
       "<Figure size 432x288 with 1 Axes>"
      ]
     },
     "metadata": {
      "needs_background": "light"
     },
     "output_type": "display_data"
    }
   ],
   "source": [
    "plt.scatter(data['GSPC Return prev'], data['TWII Return day'])\n",
    "plt.scatter(data['SOX Return prev'], data['TWII Return day'])"
   ]
  },
  {
   "cell_type": "code",
   "execution_count": 99,
   "metadata": {},
   "outputs": [
    {
     "data": {
      "text/plain": [
       "array([[1.        , 0.00431108],\n",
       "       [0.00431108, 1.        ]])"
      ]
     },
     "execution_count": 99,
     "metadata": {},
     "output_type": "execute_result"
    }
   ],
   "source": [
    "np.corrcoef(data['GSPC Return prev'], data['TWII Return day'])"
   ]
  },
  {
   "cell_type": "markdown",
   "metadata": {},
   "source": [
    "```\n",
    "Intraday trading (buy at open & sell at close) of TWII in proportion to GSPC daily return from the previous day is not profitable\n",
    "```"
   ]
  },
  {
   "cell_type": "markdown",
   "metadata": {},
   "source": [
    "## Using EWT to predict TWII intraday return"
   ]
  },
  {
   "cell_type": "code",
   "execution_count": 103,
   "metadata": {},
   "outputs": [],
   "source": [
    "model = sm.OLS(data['TWII Return day'],data['EWT Return prev'],missing='drop').fit()"
   ]
  },
  {
   "cell_type": "code",
   "execution_count": 104,
   "metadata": {},
   "outputs": [
    {
     "data": {
      "text/html": [
       "<table class=\"simpletable\">\n",
       "<caption>OLS Regression Results</caption>\n",
       "<tr>\n",
       "  <th>Dep. Variable:</th>     <td>TWII Return day</td> <th>  R-squared (uncentered):</th>      <td>   0.001</td> \n",
       "</tr>\n",
       "<tr>\n",
       "  <th>Model:</th>                   <td>OLS</td>       <th>  Adj. R-squared (uncentered):</th> <td>   0.000</td> \n",
       "</tr>\n",
       "<tr>\n",
       "  <th>Method:</th>             <td>Least Squares</td>  <th>  F-statistic:       </th>          <td>   1.529</td> \n",
       "</tr>\n",
       "<tr>\n",
       "  <th>Date:</th>             <td>Fri, 15 May 2020</td> <th>  Prob (F-statistic):</th>           <td> 0.216</td>  \n",
       "</tr>\n",
       "<tr>\n",
       "  <th>Time:</th>                 <td>16:53:09</td>     <th>  Log-Likelihood:    </th>          <td> -12920.</td> \n",
       "</tr>\n",
       "<tr>\n",
       "  <th>No. Observations:</th>      <td>  2341</td>      <th>  AIC:               </th>          <td>2.584e+04</td>\n",
       "</tr>\n",
       "<tr>\n",
       "  <th>Df Residuals:</th>          <td>  2340</td>      <th>  BIC:               </th>          <td>2.585e+04</td>\n",
       "</tr>\n",
       "<tr>\n",
       "  <th>Df Model:</th>              <td>     1</td>      <th>                     </th>              <td> </td>    \n",
       "</tr>\n",
       "<tr>\n",
       "  <th>Covariance Type:</th>      <td>nonrobust</td>    <th>                     </th>              <td> </td>    \n",
       "</tr>\n",
       "</table>\n",
       "<table class=\"simpletable\">\n",
       "<tr>\n",
       "         <td></td>            <th>coef</th>     <th>std err</th>      <th>t</th>      <th>P>|t|</th>  <th>[0.025</th>    <th>0.975]</th>  \n",
       "</tr>\n",
       "<tr>\n",
       "  <th>EWT Return prev</th> <td>   -4.3793</td> <td>    3.542</td> <td>   -1.236</td> <td> 0.216</td> <td>  -11.325</td> <td>    2.567</td>\n",
       "</tr>\n",
       "</table>\n",
       "<table class=\"simpletable\">\n",
       "<tr>\n",
       "  <th>Omnibus:</th>       <td>285.222</td> <th>  Durbin-Watson:     </th> <td>   2.050</td> \n",
       "</tr>\n",
       "<tr>\n",
       "  <th>Prob(Omnibus):</th> <td> 0.000</td>  <th>  Jarque-Bera (JB):  </th> <td>1144.862</td> \n",
       "</tr>\n",
       "<tr>\n",
       "  <th>Skew:</th>          <td>-0.543</td>  <th>  Prob(JB):          </th> <td>2.49e-249</td>\n",
       "</tr>\n",
       "<tr>\n",
       "  <th>Kurtosis:</th>      <td> 6.249</td>  <th>  Cond. No.          </th> <td>    1.00</td> \n",
       "</tr>\n",
       "</table><br/><br/>Warnings:<br/>[1] Standard Errors assume that the covariance matrix of the errors is correctly specified."
      ],
      "text/plain": [
       "<class 'statsmodels.iolib.summary.Summary'>\n",
       "\"\"\"\n",
       "                                 OLS Regression Results                                \n",
       "=======================================================================================\n",
       "Dep. Variable:        TWII Return day   R-squared (uncentered):                   0.001\n",
       "Model:                            OLS   Adj. R-squared (uncentered):              0.000\n",
       "Method:                 Least Squares   F-statistic:                              1.529\n",
       "Date:                Fri, 15 May 2020   Prob (F-statistic):                       0.216\n",
       "Time:                        16:53:09   Log-Likelihood:                         -12920.\n",
       "No. Observations:                2341   AIC:                                  2.584e+04\n",
       "Df Residuals:                    2340   BIC:                                  2.585e+04\n",
       "Df Model:                           1                                                  \n",
       "Covariance Type:            nonrobust                                                  \n",
       "===================================================================================\n",
       "                      coef    std err          t      P>|t|      [0.025      0.975]\n",
       "-----------------------------------------------------------------------------------\n",
       "EWT Return prev    -4.3793      3.542     -1.236      0.216     -11.325       2.567\n",
       "==============================================================================\n",
       "Omnibus:                      285.222   Durbin-Watson:                   2.050\n",
       "Prob(Omnibus):                  0.000   Jarque-Bera (JB):             1144.862\n",
       "Skew:                          -0.543   Prob(JB):                    2.49e-249\n",
       "Kurtosis:                       6.249   Cond. No.                         1.00\n",
       "==============================================================================\n",
       "\n",
       "Warnings:\n",
       "[1] Standard Errors assume that the covariance matrix of the errors is correctly specified.\n",
       "\"\"\""
      ]
     },
     "execution_count": 104,
     "metadata": {},
     "output_type": "execute_result"
    }
   ],
   "source": [
    "model.summary()"
   ]
  },
  {
   "cell_type": "code",
   "execution_count": 101,
   "metadata": {},
   "outputs": [
    {
     "data": {
      "text/plain": [
       "<matplotlib.collections.PathCollection at 0x1141bb9e8>"
      ]
     },
     "execution_count": 101,
     "metadata": {},
     "output_type": "execute_result"
    },
    {
     "data": {
      "image/png": "[encoded data removed]",
      "text/plain": [
       "<Figure size 432x288 with 1 Axes>"
      ]
     },
     "metadata": {
      "needs_background": "light"
     },
     "output_type": "display_data"
    }
   ],
   "source": [
    "plt.scatter(data['EWT Return prev'],data['TWII Return day'])"
   ]
  },
  {
   "cell_type": "code",
   "execution_count": 102,
   "metadata": {},
   "outputs": [
    {
     "data": {
      "text/plain": [
       "array([[ 1.        , -0.02380843],\n",
       "       [-0.02380843,  1.        ]])"
      ]
     },
     "execution_count": 102,
     "metadata": {},
     "output_type": "execute_result"
    }
   ],
   "source": [
    "np.corrcoef(data['EWT Return prev'],data['TWII Return day'])"
   ]
  },
  {
   "cell_type": "markdown",
   "metadata": {},
   "source": [
    "```\n",
    "Intraday trading (buy at open & sell at close) of TWII in proportion to EWT daily return from the previous day is not profitable\n",
    "```"
   ]
  }
 ],
 "metadata": {
  "kernelspec": {
   "display_name": "Python 3",
   "language": "python",
   "name": "python3"
  },
  "language_info": {
   "codemirror_mode": {
    "name": "ipython",
    "version": 3
   },
   "file_extension": ".py",
   "mimetype": "text/x-python",
   "name": "python",
   "nbconvert_exporter": "python",
   "pygments_lexer": "ipython3",
   "version": "3.6.8"
  }
 },
 "nbformat": 4,
 "nbformat_minor": 2
}
